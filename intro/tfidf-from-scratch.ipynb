{
 "cells": [
  {
   "cell_type": "code",
   "execution_count": 1,
   "id": "5d1549be",
   "metadata": {},
   "outputs": [],
   "source": [
    "import pandas as pd\n",
    "import numpy as np\n",
    "import nltk\n",
    "\n",
    "from nltk import word_tokenize"
   ]
  },
  {
   "cell_type": "code",
   "execution_count": 2,
   "id": "afef1b4a",
   "metadata": {},
   "outputs": [],
   "source": [
    "# read dataframe\n",
    "df = pd.read_csv('bbc_text_cls.csv')"
   ]
  },
  {
   "cell_type": "code",
   "execution_count": 3,
   "id": "63962e1f",
   "metadata": {},
   "outputs": [
    {
     "data": {
      "text/html": [
       "<div>\n",
       "<style scoped>\n",
       "    .dataframe tbody tr th:only-of-type {\n",
       "        vertical-align: middle;\n",
       "    }\n",
       "\n",
       "    .dataframe tbody tr th {\n",
       "        vertical-align: top;\n",
       "    }\n",
       "\n",
       "    .dataframe thead th {\n",
       "        text-align: right;\n",
       "    }\n",
       "</style>\n",
       "<table border=\"1\" class=\"dataframe\">\n",
       "  <thead>\n",
       "    <tr style=\"text-align: right;\">\n",
       "      <th></th>\n",
       "      <th>text</th>\n",
       "      <th>labels</th>\n",
       "    </tr>\n",
       "  </thead>\n",
       "  <tbody>\n",
       "    <tr>\n",
       "      <th>0</th>\n",
       "      <td>Ad sales boost Time Warner profit\\n\\nQuarterly...</td>\n",
       "      <td>business</td>\n",
       "    </tr>\n",
       "    <tr>\n",
       "      <th>1</th>\n",
       "      <td>Dollar gains on Greenspan speech\\n\\nThe dollar...</td>\n",
       "      <td>business</td>\n",
       "    </tr>\n",
       "    <tr>\n",
       "      <th>2</th>\n",
       "      <td>Yukos unit buyer faces loan claim\\n\\nThe owner...</td>\n",
       "      <td>business</td>\n",
       "    </tr>\n",
       "    <tr>\n",
       "      <th>3</th>\n",
       "      <td>High fuel prices hit BA's profits\\n\\nBritish A...</td>\n",
       "      <td>business</td>\n",
       "    </tr>\n",
       "    <tr>\n",
       "      <th>4</th>\n",
       "      <td>Pernod takeover talk lifts Domecq\\n\\nShares in...</td>\n",
       "      <td>business</td>\n",
       "    </tr>\n",
       "  </tbody>\n",
       "</table>\n",
       "</div>"
      ],
      "text/plain": [
       "                                                text    labels\n",
       "0  Ad sales boost Time Warner profit\\n\\nQuarterly...  business\n",
       "1  Dollar gains on Greenspan speech\\n\\nThe dollar...  business\n",
       "2  Yukos unit buyer faces loan claim\\n\\nThe owner...  business\n",
       "3  High fuel prices hit BA's profits\\n\\nBritish A...  business\n",
       "4  Pernod takeover talk lifts Domecq\\n\\nShares in...  business"
      ]
     },
     "execution_count": 3,
     "metadata": {},
     "output_type": "execute_result"
    }
   ],
   "source": [
    "df.head()"
   ]
  },
  {
   "cell_type": "code",
   "execution_count": 7,
   "id": "79d8677b",
   "metadata": {},
   "outputs": [
    {
     "name": "stdout",
     "output_type": "stream",
     "text": [
      "CPU times: user 6.24 s, sys: 20 ms, total: 6.26 s\n",
      "Wall time: 6.29 s\n"
     ]
    }
   ],
   "source": [
    "%%time\n",
    "# populate word2idx\n",
    "# convert documents into sequences of ints / ids / indices\n",
    "\n",
    "idx = 0\n",
    "word2idx = {}\n",
    "tokenized_docs = []\n",
    "\n",
    "for doc in df['text']:\n",
    "    words = word_tokenize(doc.lower())\n",
    "    docs_as_int = []\n",
    "    for word in words:\n",
    "        if word not in word2idx:\n",
    "            word2idx[word] = idx\n",
    "            idx += 1\n",
    "            \n",
    "        docs_as_int.append(word2idx[word])\n",
    "        \n",
    "    tokenized_docs.append(docs_as_int)"
   ]
  },
  {
   "cell_type": "code",
   "execution_count": 8,
   "id": "3ccb0f44",
   "metadata": {},
   "outputs": [],
   "source": [
    "# reversing mapping\n",
    "# if you do it smarter you can store ir as a list\n",
    "idx2word = {v:k for k, v in word2idx.items()}"
   ]
  },
  {
   "cell_type": "code",
   "execution_count": 9,
   "id": "10214514",
   "metadata": {},
   "outputs": [],
   "source": [
    "# number of documents\n",
    "N = len(df['text'])"
   ]
  },
  {
   "cell_type": "code",
   "execution_count": 10,
   "id": "02eb0243",
   "metadata": {},
   "outputs": [],
   "source": [
    "V = len(word2idx)"
   ]
  },
  {
   "cell_type": "code",
   "execution_count": 11,
   "id": "2f2604dd",
   "metadata": {},
   "outputs": [],
   "source": [
    "# instantiate term-frequency matrix\n",
    "# note: could have also used count vectorizer\n",
    "tf = np.zeros((N, V))"
   ]
  },
  {
   "cell_type": "code",
   "execution_count": 14,
   "id": "190540b7",
   "metadata": {},
   "outputs": [],
   "source": [
    "# populate term-frequency counts\n",
    "for i, doc_as_int in enumerate(tokenized_docs):\n",
    "    for j in doc_as_int:\n",
    "        tf[i, j] += 1"
   ]
  },
  {
   "cell_type": "code",
   "execution_count": 15,
   "id": "f04a5a99",
   "metadata": {},
   "outputs": [],
   "source": [
    "# compute IDF\n",
    "document_frequency = np.sum(tf > 0, axis = 0) # document frequency (shape = (V, ))\n",
    "idf = np.log(N / document_frequency)"
   ]
  },
  {
   "cell_type": "code",
   "execution_count": 19,
   "id": "1d0036a6",
   "metadata": {},
   "outputs": [],
   "source": [
    "# compute TF-IDF\n",
    "tf_idf = tf * idf"
   ]
  },
  {
   "cell_type": "code",
   "execution_count": 17,
   "id": "10903f04",
   "metadata": {},
   "outputs": [],
   "source": [
    "np.random.seed(123)"
   ]
  },
  {
   "cell_type": "code",
   "execution_count": 23,
   "id": "f15554bc",
   "metadata": {},
   "outputs": [
    {
     "name": "stdout",
     "output_type": "stream",
     "text": [
      "Label:  sport\n",
      "Text:  Hingis hints at playing comeback\n",
      "Top 5 terms:\n",
      "hingis\n",
      "pattaya\n",
      "thailand\n",
      "95th\n",
      "30th\n"
     ]
    }
   ],
   "source": [
    "# pick a random document, show the top 5 terms (in terms of tf_idf score)\n",
    "i = np.random.choice(N)\n",
    "row = df.iloc[i]\n",
    "\n",
    "print(\"Label: \", row['labels'])\n",
    "print(\"Text: \", row['text'].split(\"\\n\", 1)[0])\n",
    "print(\"Top 5 terms:\")\n",
    "\n",
    "scores = tf_idf[i]\n",
    "indices = (-scores).argsort()\n",
    "\n",
    "for j in indices[:5]:\n",
    "    print(idx2word[j])"
   ]
  }
 ],
 "metadata": {
  "kernelspec": {
   "display_name": "Python 3 (ipykernel)",
   "language": "python",
   "name": "python3"
  },
  "language_info": {
   "codemirror_mode": {
    "name": "ipython",
    "version": 3
   },
   "file_extension": ".py",
   "mimetype": "text/x-python",
   "name": "python",
   "nbconvert_exporter": "python",
   "pygments_lexer": "ipython3",
   "version": "3.10.4"
  }
 },
 "nbformat": 4,
 "nbformat_minor": 5
}
