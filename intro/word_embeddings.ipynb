{
 "cells": [
  {
   "cell_type": "code",
   "execution_count": 2,
   "id": "76675b9a",
   "metadata": {},
   "outputs": [
    {
     "name": "stdout",
     "output_type": "stream",
     "text": [
      "--2022-06-09 16:00:08--  https://lazyprogrammer.me/course_files/nlp/GoogleNews-vectors-negative300.bin.gz\n",
      "Resolving lazyprogrammer.me (lazyprogrammer.me)... 172.67.213.166, 104.21.23.210, 2606:4700:3031::6815:17d2, ...\n",
      "Connecting to lazyprogrammer.me (lazyprogrammer.me)|172.67.213.166|:443... connected.\n",
      "HTTP request sent, awaiting response... 200 OK\n",
      "Length: 1647046227 (1,5G) [application/x-gzip]\n",
      "Saving to: ‘GoogleNews-vectors-negative300.bin.gz’\n",
      "\n",
      "GoogleNews-vectors- 100%[===================>]   1,53G  3,90MB/s    in 3m 4s   \n",
      "\n",
      "2022-06-09 16:03:12 (8,55 MB/s) - ‘GoogleNews-vectors-negative300.bin.gz’ saved [1647046227/1647046227]\n",
      "\n"
     ]
    }
   ],
   "source": [
    "!wget -nc https://lazyprogrammer.me/course_files/nlp/GoogleNews-vectors-negative300.bin.gz\n",
    "\n",
    "# you are better off just downloading this from the source\n",
    "# https://drive.google.com/file/d/0B7XkCwpI5KDYNlNUTTlSS21pQmM/edit?usp=sharing\n",
    "# https://code.google.com/archive/p/word2vec"
   ]
  },
  {
   "cell_type": "code",
   "execution_count": null,
   "id": "5268fb85",
   "metadata": {},
   "outputs": [],
   "source": [
    "# import gdown"
   ]
  },
  {
   "cell_type": "code",
   "execution_count": null,
   "id": "4bd9e115",
   "metadata": {},
   "outputs": [],
   "source": [
    "# !gdown https://drive.google.com/uc?0B7XkCwpI5KDYNlNUTTlSS21pQmM"
   ]
  },
  {
   "cell_type": "code",
   "execution_count": 4,
   "id": "a79d8316",
   "metadata": {},
   "outputs": [],
   "source": [
    "!gunzip GoogleNews-vectors-negative300.bin.gz"
   ]
  },
  {
   "cell_type": "code",
   "execution_count": 7,
   "id": "23e05ba9",
   "metadata": {},
   "outputs": [],
   "source": [
    "from gensim.models import KeyedVectors"
   ]
  },
  {
   "cell_type": "code",
   "execution_count": 8,
   "id": "f283424f",
   "metadata": {},
   "outputs": [],
   "source": [
    "word_vectors = KeyedVectors.load_word2vec_format(\n",
    "    'GoogleNews-vectors-negative300.bin',\n",
    "    binary = True\n",
    ")"
   ]
  },
  {
   "cell_type": "code",
   "execution_count": 11,
   "id": "4d797d7f",
   "metadata": {},
   "outputs": [],
   "source": [
    "def find_analogies(w1, w2, w3):\n",
    "    # w1 - w2 = ? - w3\n",
    "    # e.g. king - man = ? - woman\n",
    "    # ? = king - man + woman\n",
    "    r = word_vectors.most_similar(positive=[w1, w3], negative=[w2])\n",
    "    print(\"%s - %s = %s - %s\" % (w1, w2, r[0][0], w3))"
   ]
  },
  {
   "cell_type": "code",
   "execution_count": 12,
   "id": "48c49ba0",
   "metadata": {},
   "outputs": [
    {
     "name": "stdout",
     "output_type": "stream",
     "text": [
      "king - man = queen - woman\n"
     ]
    }
   ],
   "source": [
    "find_analogies('king', 'man', 'woman')"
   ]
  },
  {
   "cell_type": "code",
   "execution_count": 13,
   "id": "c84d27e5",
   "metadata": {},
   "outputs": [
    {
     "name": "stdout",
     "output_type": "stream",
     "text": [
      "france - paris = england - london\n"
     ]
    }
   ],
   "source": [
    "find_analogies('france', 'paris', 'london')"
   ]
  },
  {
   "cell_type": "code",
   "execution_count": 14,
   "id": "ea9c59b6",
   "metadata": {},
   "outputs": [
    {
     "name": "stdout",
     "output_type": "stream",
     "text": [
      "france - paris = italy - rome\n"
     ]
    }
   ],
   "source": [
    "find_analogies('france', 'paris', 'rome')"
   ]
  },
  {
   "cell_type": "code",
   "execution_count": 15,
   "id": "ccb9ad1a",
   "metadata": {},
   "outputs": [
    {
     "name": "stdout",
     "output_type": "stream",
     "text": [
      "paris - france = lohan - italy\n"
     ]
    }
   ],
   "source": [
    "find_analogies('paris', 'france', 'italy')"
   ]
  },
  {
   "cell_type": "code",
   "execution_count": 18,
   "id": "d54c8e16",
   "metadata": {},
   "outputs": [
    {
     "name": "stdout",
     "output_type": "stream",
     "text": [
      "france - french = england - english\n"
     ]
    }
   ],
   "source": [
    "find_analogies('france', 'french', 'english')"
   ]
  },
  {
   "cell_type": "code",
   "execution_count": 19,
   "id": "777e086f",
   "metadata": {},
   "outputs": [
    {
     "name": "stdout",
     "output_type": "stream",
     "text": [
      "japan - japanese = tibet - chinese\n"
     ]
    }
   ],
   "source": [
    "find_analogies('japan', 'japanese', 'chinese')"
   ]
  },
  {
   "cell_type": "code",
   "execution_count": 20,
   "id": "101b8ed6",
   "metadata": {},
   "outputs": [
    {
     "name": "stdout",
     "output_type": "stream",
     "text": [
      "japan - japanese = italy - italian\n"
     ]
    }
   ],
   "source": [
    "find_analogies('japan', 'japanese', 'italian')"
   ]
  },
  {
   "cell_type": "code",
   "execution_count": 21,
   "id": "db4d881f",
   "metadata": {},
   "outputs": [
    {
     "name": "stdout",
     "output_type": "stream",
     "text": [
      "december - november = september - june\n"
     ]
    }
   ],
   "source": [
    "find_analogies('december', 'november', 'june')"
   ]
  },
  {
   "cell_type": "code",
   "execution_count": 22,
   "id": "ab4ff344",
   "metadata": {},
   "outputs": [
    {
     "name": "stdout",
     "output_type": "stream",
     "text": [
      "miami - florida = dallas - texas\n"
     ]
    }
   ],
   "source": [
    "find_analogies('miami', 'florida', 'texas')"
   ]
  },
  {
   "cell_type": "code",
   "execution_count": 23,
   "id": "4581ed0b",
   "metadata": {},
   "outputs": [
    {
     "name": "stdout",
     "output_type": "stream",
     "text": [
      "einstein - scientist = jude - painter\n"
     ]
    }
   ],
   "source": [
    "find_analogies('einstein', 'scientist', 'painter')"
   ]
  },
  {
   "cell_type": "code",
   "execution_count": 24,
   "id": "2bedb066",
   "metadata": {},
   "outputs": [
    {
     "name": "stdout",
     "output_type": "stream",
     "text": [
      "man - woman = he - she\n"
     ]
    }
   ],
   "source": [
    "find_analogies('man', 'woman', 'she')"
   ]
  },
  {
   "cell_type": "code",
   "execution_count": 25,
   "id": "e0adcaa6",
   "metadata": {},
   "outputs": [
    {
     "name": "stdout",
     "output_type": "stream",
     "text": [
      "man - woman = uncle - aunt\n"
     ]
    }
   ],
   "source": [
    "find_analogies('man', 'woman', 'aunt')"
   ]
  },
  {
   "cell_type": "code",
   "execution_count": 26,
   "id": "453b5c3d",
   "metadata": {},
   "outputs": [
    {
     "name": "stdout",
     "output_type": "stream",
     "text": [
      "man - woman = brother - sister\n"
     ]
    }
   ],
   "source": [
    "find_analogies('man', 'woman', 'sister')"
   ]
  },
  {
   "cell_type": "code",
   "execution_count": 27,
   "id": "51da0d0e",
   "metadata": {},
   "outputs": [
    {
     "name": "stdout",
     "output_type": "stream",
     "text": [
      "man - woman = son - wife\n"
     ]
    }
   ],
   "source": [
    "find_analogies('man', 'woman', 'wife')"
   ]
  },
  {
   "cell_type": "code",
   "execution_count": 28,
   "id": "fe2e3d16",
   "metadata": {},
   "outputs": [
    {
     "name": "stdout",
     "output_type": "stream",
     "text": [
      "man - woman = actor - actress\n"
     ]
    }
   ],
   "source": [
    "find_analogies('man', 'woman', 'actress')"
   ]
  },
  {
   "cell_type": "code",
   "execution_count": 29,
   "id": "0a2c0e51",
   "metadata": {},
   "outputs": [
    {
     "name": "stdout",
     "output_type": "stream",
     "text": [
      "man - woman = father - mother\n"
     ]
    }
   ],
   "source": [
    "find_analogies('man', 'woman', 'mother')"
   ]
  },
  {
   "cell_type": "code",
   "execution_count": 30,
   "id": "ae06b99d",
   "metadata": {},
   "outputs": [
    {
     "name": "stdout",
     "output_type": "stream",
     "text": [
      "nephew - niece = uncle - aunt\n"
     ]
    }
   ],
   "source": [
    "find_analogies('nephew', 'niece', 'aunt')"
   ]
  },
  {
   "cell_type": "code",
   "execution_count": 31,
   "id": "28efd568",
   "metadata": {},
   "outputs": [],
   "source": [
    "def nearest_neigbors(w):\n",
    "    r = word_vectors.most_similar(positive=[w])\n",
    "    print(\"neighbors of: %s\" % w)\n",
    "    \n",
    "    for word, score in r:\n",
    "        print(\"\\t%s\" % word)"
   ]
  },
  {
   "cell_type": "code",
   "execution_count": 32,
   "id": "cd4a93d9",
   "metadata": {},
   "outputs": [
    {
     "name": "stdout",
     "output_type": "stream",
     "text": [
      "neighbors of: king\n",
      "\tkings\n",
      "\tqueen\n",
      "\tmonarch\n",
      "\tcrown_prince\n",
      "\tprince\n",
      "\tsultan\n",
      "\truler\n",
      "\tprinces\n",
      "\tPrince_Paras\n",
      "\tthrone\n"
     ]
    }
   ],
   "source": [
    "nearest_neigbors('king')"
   ]
  },
  {
   "cell_type": "code",
   "execution_count": 33,
   "id": "36ffaac5",
   "metadata": {},
   "outputs": [
    {
     "name": "stdout",
     "output_type": "stream",
     "text": [
      "neighbors of: france\n",
      "\tspain\n",
      "\tfrench\n",
      "\tgermany\n",
      "\teurope\n",
      "\titaly\n",
      "\tengland\n",
      "\teuropean\n",
      "\tbelgium\n",
      "\tusa\n",
      "\tserbia\n"
     ]
    }
   ],
   "source": [
    "nearest_neigbors('france')"
   ]
  },
  {
   "cell_type": "code",
   "execution_count": 34,
   "id": "a06f8f5f",
   "metadata": {},
   "outputs": [
    {
     "name": "stdout",
     "output_type": "stream",
     "text": [
      "neighbors of: japan\n",
      "\tjapanese\n",
      "\ttokyo\n",
      "\tamerica\n",
      "\teurope\n",
      "\tgermany\n",
      "\tchinese\n",
      "\tindia\n",
      "\thawaii\n",
      "\tusa\n",
      "\tkorea\n"
     ]
    }
   ],
   "source": [
    "nearest_neigbors('japan')"
   ]
  },
  {
   "cell_type": "code",
   "execution_count": 35,
   "id": "fb08bf76",
   "metadata": {},
   "outputs": [
    {
     "name": "stdout",
     "output_type": "stream",
     "text": [
      "neighbors of: einstein\n",
      "\tnikki\n",
      "\tlmfao\n",
      "\talbert\n",
      "\tarmstrong\n",
      "\tjoan\n",
      "\tbecky\n",
      "\tmcmahon\n",
      "\tconrad\n",
      "\tlori\n",
      "\thaley\n"
     ]
    }
   ],
   "source": [
    "nearest_neigbors('einstein')"
   ]
  },
  {
   "cell_type": "code",
   "execution_count": 38,
   "id": "932a3d14",
   "metadata": {},
   "outputs": [
    {
     "name": "stdout",
     "output_type": "stream",
     "text": [
      "neighbors of: girl\n",
      "\tboy\n",
      "\tteenage_girl\n",
      "\twoman\n",
      "\tteenager\n",
      "\tschoolgirl\n",
      "\tteenaged_girl\n",
      "\tdaughter\n",
      "\tmother\n",
      "\ttoddler\n",
      "\tgirls\n"
     ]
    }
   ],
   "source": [
    "nearest_neigbors('girl')"
   ]
  },
  {
   "cell_type": "code",
   "execution_count": 36,
   "id": "4eee7d6f",
   "metadata": {},
   "outputs": [
    {
     "name": "stdout",
     "output_type": "stream",
     "text": [
      "neighbors of: nephew\n",
      "\tson\n",
      "\tuncle\n",
      "\tbrother\n",
      "\tgrandson\n",
      "\tcousin\n",
      "\tfather\n",
      "\tniece\n",
      "\tyounger_brother\n",
      "\tnephews\n",
      "\tstepson\n"
     ]
    }
   ],
   "source": [
    "nearest_neigbors('nephew')"
   ]
  },
  {
   "cell_type": "code",
   "execution_count": 37,
   "id": "aefb14da",
   "metadata": {},
   "outputs": [
    {
     "name": "stdout",
     "output_type": "stream",
     "text": [
      "neighbors of: february\n",
      "\tjanuary\n",
      "\tapril\n",
      "\tseptember\n",
      "\tdecember\n",
      "\tjuly\n",
      "\toctober\n",
      "\tnovember\n",
      "\tjune\n",
      "\tfeb\n",
      "\tnorway\n"
     ]
    }
   ],
   "source": [
    "nearest_neigbors('february')"
   ]
  },
  {
   "cell_type": "markdown",
   "id": "b2dd7201",
   "metadata": {},
   "source": [
    "### Exercise: download pretrained GloVe vectors from\n",
    "### https://nlp.stanford.edu/projects/glove/\n",
    "Implement your own ```find_analogies()``` and ```nearest_neighbors()```"
   ]
  },
  {
   "cell_type": "code",
   "execution_count": 39,
   "id": "75876eb5",
   "metadata": {},
   "outputs": [
    {
     "name": "stdout",
     "output_type": "stream",
     "text": [
      "--2022-06-09 16:28:44--  https://nlp.stanford.edu/data/glove.840B.300d.zip\n",
      "Resolving nlp.stanford.edu (nlp.stanford.edu)... 171.64.67.140\n",
      "Connecting to nlp.stanford.edu (nlp.stanford.edu)|171.64.67.140|:443... connected.\n",
      "HTTP request sent, awaiting response... 301 Moved Permanently\n",
      "Location: http://downloads.cs.stanford.edu/nlp/data/glove.840B.300d.zip [following]\n",
      "--2022-06-09 16:28:45--  http://downloads.cs.stanford.edu/nlp/data/glove.840B.300d.zip\n",
      "Resolving downloads.cs.stanford.edu (downloads.cs.stanford.edu)... 171.64.64.22\n",
      "Connecting to downloads.cs.stanford.edu (downloads.cs.stanford.edu)|171.64.64.22|:80... connected.\n",
      "HTTP request sent, awaiting response... 200 OK\n",
      "Length: 2176768927 (2,0G) [application/zip]\n",
      "Saving to: ‘glove.840B.300d.zip’\n",
      "\n",
      "glove.840B.300d.zip 100%[===================>]   2,03G  5,02MB/s    in 7m 0s   \n",
      "\n",
      "2022-06-09 16:35:45 (4,95 MB/s) - ‘glove.840B.300d.zip’ saved [2176768927/2176768927]\n",
      "\n"
     ]
    }
   ],
   "source": [
    "!wget -nc https://nlp.stanford.edu/data/glove.840B.300d.zip"
   ]
  },
  {
   "cell_type": "code",
   "execution_count": 41,
   "id": "e876b79a",
   "metadata": {},
   "outputs": [
    {
     "name": "stdout",
     "output_type": "stream",
     "text": [
      "Archive:  glove.840B.300d.zip\n",
      "  inflating: glove.840B.300d.txt     \n"
     ]
    }
   ],
   "source": [
    "!unzip glove.840B.300d.zip"
   ]
  },
  {
   "cell_type": "code",
   "execution_count": 43,
   "id": "cbe71786",
   "metadata": {},
   "outputs": [
    {
     "name": "stderr",
     "output_type": "stream",
     "text": [
      "2022-06-09 16:51:04.818355: W tensorflow/stream_executor/platform/default/dso_loader.cc:64] Could not load dynamic library 'libcudart.so.11.0'; dlerror: libcudart.so.11.0: cannot open shared object file: No such file or directory\n",
      "2022-06-09 16:51:04.818384: I tensorflow/stream_executor/cuda/cudart_stub.cc:29] Ignore above cudart dlerror if you do not have a GPU set up on your machine.\n"
     ]
    }
   ],
   "source": [
    "# code for Glove word embedding\n",
    "from tensorflow.keras.preprocessing.text import Tokenizer\n",
    "from tensorflow.keras.preprocessing.sequence import pad_sequences\n",
    "import numpy as np"
   ]
  },
  {
   "cell_type": "code",
   "execution_count": 53,
   "id": "890df3d4",
   "metadata": {},
   "outputs": [
    {
     "name": "stdout",
     "output_type": "stream",
     "text": [
      "Number of unique words in dictionary= 6\n",
      "Dictionary is =  {'the': 1, 'text': 2, 'leader': 3, 'prime': 4, 'language': 5, 'natural': 6}\n"
     ]
    }
   ],
   "source": [
    "x = {'text', 'the', 'leader', 'prime',\n",
    "     'natural', 'language'}\n",
    "  \n",
    "# create the dict.\n",
    "tokenizer = Tokenizer()\n",
    "tokenizer.fit_on_texts(x)\n",
    "  \n",
    "# number of unique words in dict.\n",
    "print(\"Number of unique words in dictionary=\", \n",
    "      len(tokenizer.word_index))\n",
    "print(\"Dictionary is = \", tokenizer.word_index)"
   ]
  },
  {
   "cell_type": "code",
   "execution_count": 54,
   "id": "751fcb0e",
   "metadata": {},
   "outputs": [],
   "source": [
    "def embedding_for_vocab(filepath, word_index,\n",
    "                        embedding_dim):\n",
    "    vocab_size = len(word_index) + 1\n",
    "      \n",
    "    # Adding again 1 because of reserved 0 index\n",
    "    embedding_matrix_vocab = np.zeros((vocab_size,\n",
    "                                       embedding_dim))\n",
    "  \n",
    "    with open(filepath, encoding=\"utf8\") as f:\n",
    "        for line in f:\n",
    "            word, *vector = line.split()\n",
    "            if word in word_index:\n",
    "                idx = word_index[word]\n",
    "                embedding_matrix_vocab[idx] = np.array(\n",
    "                    vector, dtype=np.float32)[:embedding_dim]\n",
    "  \n",
    "    return embedding_matrix_vocab"
   ]
  },
  {
   "cell_type": "code",
   "execution_count": 56,
   "id": "51cec56e",
   "metadata": {},
   "outputs": [
    {
     "name": "stdout",
     "output_type": "stream",
     "text": [
      "Dense vector for first word is =>  [ 2.72040009e-01 -6.20299987e-02 -1.88400000e-01  2.32250001e-02\n",
      " -1.81580000e-02  6.71919994e-03 -1.38769999e-01  1.77080005e-01\n",
      "  1.77090004e-01  2.58820009e+00 -3.51790011e-01 -1.73120007e-01\n",
      "  4.32850003e-01 -1.07079998e-01  1.50059998e-01 -1.99819997e-01\n",
      " -1.90929994e-01  1.18710005e+00 -1.62070006e-01 -2.35379994e-01\n",
      "  3.66399996e-03 -1.91560000e-01 -8.56619999e-02  3.91989984e-02\n",
      " -6.64490014e-02 -4.20899987e-02 -1.91220000e-01  1.16790002e-02\n",
      " -3.71380001e-01  2.18860000e-01  1.14229997e-03  4.31899995e-01\n",
      " -1.42049998e-01  3.80589992e-01  3.06540012e-01  2.01670006e-02\n",
      " -1.83160007e-01 -6.51860004e-03 -8.05489998e-03 -1.20630004e-01\n",
      "  2.75069997e-02  2.98390001e-01 -2.28960007e-01 -2.28819996e-01\n",
      "  1.46709993e-01 -7.63010010e-02 -1.26800001e-01 -6.66509988e-03\n",
      " -5.27950004e-02  1.42580003e-01  1.56100005e-01  5.55099994e-02\n",
      " -1.61489993e-01  9.62899998e-02 -7.65329972e-02 -4.99709994e-02\n",
      " -1.01950001e-02 -4.76410016e-02 -1.66789994e-01 -2.39399999e-01\n",
      "  5.01410011e-03 -4.91750017e-02  1.33379996e-02  4.19230014e-01\n",
      " -1.01039998e-01  1.51110003e-02 -7.77060017e-02 -1.34709999e-01\n",
      "  1.19000003e-01  1.08020000e-01  2.10610002e-01 -5.19040003e-02\n",
      "  1.85269997e-01  1.78560004e-01  4.12929989e-02 -1.43849999e-02\n",
      " -8.25669989e-02 -3.54829989e-02 -7.61730000e-02 -4.53669988e-02\n",
      "  8.92810002e-02  3.36719990e-01 -2.20990002e-01 -6.72749989e-03\n",
      "  2.39830002e-01 -2.31470004e-01 -8.85919988e-01  9.12970006e-02\n",
      " -1.21229999e-02  1.32330004e-02 -2.57990003e-01 -2.97200009e-02\n",
      "  1.67539995e-02  1.36900004e-02  3.23769987e-01  3.95460017e-02\n",
      "  4.21140008e-02 -8.82430002e-02  3.03180009e-01  8.77470002e-02\n",
      "  1.63460001e-01 -4.04850006e-01 -4.38450016e-02 -4.06970009e-02\n",
      "  2.09360003e-01 -7.77949989e-01  2.99699992e-01  2.33400002e-01\n",
      "  1.48910001e-01 -3.90370011e-01 -5.30860014e-02  6.29220009e-02\n",
      "  6.56630024e-02 -1.39060006e-01  9.41929966e-02  1.03440002e-01\n",
      " -2.79700011e-01  2.89050013e-01 -3.21610004e-01  2.06870008e-02\n",
      "  6.32539988e-02 -2.32570007e-01 -4.35200006e-01 -1.70489997e-02\n",
      " -3.27439994e-01 -4.70639989e-02 -7.51489997e-02 -1.87879995e-01\n",
      " -1.50170000e-02  2.93419994e-02 -3.52699995e-01 -4.42779996e-02\n",
      " -1.35069996e-01 -1.16439998e-01 -1.04300000e-01  1.39200002e-01\n",
      "  3.91989993e-03  3.76029998e-01  6.72169998e-02 -3.79920006e-01\n",
      " -1.12409997e+00 -5.73569983e-02 -1.68259993e-01  3.94099988e-02\n",
      "  2.60399997e-01 -2.38659997e-02  1.79629996e-01  1.35529995e-01\n",
      "  2.13900000e-01  5.26329987e-02 -2.50330001e-01 -1.13070004e-01\n",
      "  2.22340003e-01  6.65969998e-02 -1.11610003e-01  6.24380000e-02\n",
      " -2.79720008e-01  1.98780000e-01 -3.62619996e-01 -1.00059997e-05\n",
      " -1.72619998e-01  2.91660011e-01 -1.57230005e-01  5.42949997e-02\n",
      "  6.10099994e-02 -3.91649991e-01  2.76600003e-01  5.78159988e-02\n",
      "  3.97089988e-01  2.52289996e-02  2.46720001e-01 -8.90500024e-02\n",
      "  1.56829998e-01 -2.09600002e-01 -2.21959993e-01  5.23939990e-02\n",
      " -1.13599999e-02  5.04169986e-02 -1.40230000e-01 -4.28249985e-02\n",
      " -3.19310017e-02 -2.13359997e-01 -2.04019994e-01 -2.32720003e-01\n",
      "  7.44900033e-02  8.82019997e-02 -1.10629998e-01 -3.35260004e-01\n",
      " -1.40279997e-02 -2.94290006e-01 -8.69110003e-02 -1.32100001e-01\n",
      " -4.36159998e-01  2.05129996e-01  7.93620013e-03  4.85049993e-01\n",
      "  6.42369986e-02  1.42609999e-01 -4.37110007e-01  1.27829999e-01\n",
      " -1.31109998e-01  2.46730000e-01 -2.74960011e-01  1.58960000e-01\n",
      "  4.33140010e-01  9.02860016e-02  2.46619999e-01  6.64630011e-02\n",
      " -2.00990006e-01  1.10100001e-01  3.64399999e-02  1.73590004e-01\n",
      " -1.56890005e-01 -8.63279998e-02 -1.73160002e-01  3.69749993e-01\n",
      " -4.03169990e-01 -6.48140013e-02 -3.41660008e-02 -1.37729999e-02\n",
      "  6.28539994e-02 -1.71829998e-01 -1.23659998e-01 -3.46629992e-02\n",
      " -2.27929994e-01 -2.31720001e-01  2.38999993e-01  2.74729997e-01\n",
      "  1.53320000e-01  1.06610000e-01 -6.09820001e-02 -2.48050001e-02\n",
      " -1.34780005e-01  1.79319993e-01 -3.73739988e-01 -2.89299991e-02\n",
      " -1.11419998e-01 -8.38899985e-02 -5.59320003e-02  6.80390000e-02\n",
      " -1.07830003e-01  1.46500006e-01  9.46170017e-02 -8.45540017e-02\n",
      "  6.74289986e-02 -3.29100013e-01  3.40819992e-02 -1.67469993e-01\n",
      " -2.59970009e-01 -2.29169995e-01  2.01590005e-02 -2.75800005e-02\n",
      "  1.61359996e-01 -1.85379997e-01  3.76649983e-02  5.76030016e-01\n",
      "  2.06839994e-01  2.79410005e-01  1.64770007e-01 -1.87689997e-02\n",
      "  1.20619997e-01  6.96479976e-02  5.90219982e-02 -2.31539994e-01\n",
      "  2.40950003e-01 -3.47099990e-01  4.85399999e-02 -5.65019995e-02\n",
      "  4.15659994e-01 -4.31939989e-01  4.82300013e-01 -5.17590009e-02\n",
      " -2.72850007e-01 -2.58929998e-01  1.65549994e-01 -1.83100000e-01\n",
      " -6.73400015e-02  4.24569994e-01  1.03460001e-02  1.42370000e-01\n",
      "  2.59389997e-01  1.71230003e-01 -1.38209999e-01 -6.68459982e-02\n",
      "  1.59809999e-02 -3.01930010e-01  4.35790010e-02 -4.31019999e-02\n",
      "  3.50250006e-01 -1.96810007e-01 -4.28099990e-01  1.68990001e-01\n",
      "  2.25109994e-01 -2.85569996e-01 -1.02799997e-01 -1.81680005e-02\n",
      "  1.14069998e-01  1.30150005e-01 -1.83170006e-01  1.32300004e-01]\n"
     ]
    }
   ],
   "source": [
    "# matrix for vocab: word_index\n",
    "embedding_dim = 300\n",
    "embedding_matrix_vocab = embedding_for_vocab(\n",
    "    'data/glove.840B.300d.txt', tokenizer.word_index,\n",
    "  embedding_dim)\n",
    "  \n",
    "print(\"Dense vector for first word is => \",\n",
    "      embedding_matrix_vocab[1])"
   ]
  },
  {
   "cell_type": "code",
   "execution_count": 57,
   "id": "c8640535",
   "metadata": {},
   "outputs": [
    {
     "data": {
      "text/plain": [
       "array([ 2.72040009e-01, -6.20299987e-02, -1.88400000e-01,  2.32250001e-02,\n",
       "       -1.81580000e-02,  6.71919994e-03, -1.38769999e-01,  1.77080005e-01,\n",
       "        1.77090004e-01,  2.58820009e+00, -3.51790011e-01, -1.73120007e-01,\n",
       "        4.32850003e-01, -1.07079998e-01,  1.50059998e-01, -1.99819997e-01,\n",
       "       -1.90929994e-01,  1.18710005e+00, -1.62070006e-01, -2.35379994e-01,\n",
       "        3.66399996e-03, -1.91560000e-01, -8.56619999e-02,  3.91989984e-02,\n",
       "       -6.64490014e-02, -4.20899987e-02, -1.91220000e-01,  1.16790002e-02,\n",
       "       -3.71380001e-01,  2.18860000e-01,  1.14229997e-03,  4.31899995e-01,\n",
       "       -1.42049998e-01,  3.80589992e-01,  3.06540012e-01,  2.01670006e-02,\n",
       "       -1.83160007e-01, -6.51860004e-03, -8.05489998e-03, -1.20630004e-01,\n",
       "        2.75069997e-02,  2.98390001e-01, -2.28960007e-01, -2.28819996e-01,\n",
       "        1.46709993e-01, -7.63010010e-02, -1.26800001e-01, -6.66509988e-03,\n",
       "       -5.27950004e-02,  1.42580003e-01,  1.56100005e-01,  5.55099994e-02,\n",
       "       -1.61489993e-01,  9.62899998e-02, -7.65329972e-02, -4.99709994e-02,\n",
       "       -1.01950001e-02, -4.76410016e-02, -1.66789994e-01, -2.39399999e-01,\n",
       "        5.01410011e-03, -4.91750017e-02,  1.33379996e-02,  4.19230014e-01,\n",
       "       -1.01039998e-01,  1.51110003e-02, -7.77060017e-02, -1.34709999e-01,\n",
       "        1.19000003e-01,  1.08020000e-01,  2.10610002e-01, -5.19040003e-02,\n",
       "        1.85269997e-01,  1.78560004e-01,  4.12929989e-02, -1.43849999e-02,\n",
       "       -8.25669989e-02, -3.54829989e-02, -7.61730000e-02, -4.53669988e-02,\n",
       "        8.92810002e-02,  3.36719990e-01, -2.20990002e-01, -6.72749989e-03,\n",
       "        2.39830002e-01, -2.31470004e-01, -8.85919988e-01,  9.12970006e-02,\n",
       "       -1.21229999e-02,  1.32330004e-02, -2.57990003e-01, -2.97200009e-02,\n",
       "        1.67539995e-02,  1.36900004e-02,  3.23769987e-01,  3.95460017e-02,\n",
       "        4.21140008e-02, -8.82430002e-02,  3.03180009e-01,  8.77470002e-02,\n",
       "        1.63460001e-01, -4.04850006e-01, -4.38450016e-02, -4.06970009e-02,\n",
       "        2.09360003e-01, -7.77949989e-01,  2.99699992e-01,  2.33400002e-01,\n",
       "        1.48910001e-01, -3.90370011e-01, -5.30860014e-02,  6.29220009e-02,\n",
       "        6.56630024e-02, -1.39060006e-01,  9.41929966e-02,  1.03440002e-01,\n",
       "       -2.79700011e-01,  2.89050013e-01, -3.21610004e-01,  2.06870008e-02,\n",
       "        6.32539988e-02, -2.32570007e-01, -4.35200006e-01, -1.70489997e-02,\n",
       "       -3.27439994e-01, -4.70639989e-02, -7.51489997e-02, -1.87879995e-01,\n",
       "       -1.50170000e-02,  2.93419994e-02, -3.52699995e-01, -4.42779996e-02,\n",
       "       -1.35069996e-01, -1.16439998e-01, -1.04300000e-01,  1.39200002e-01,\n",
       "        3.91989993e-03,  3.76029998e-01,  6.72169998e-02, -3.79920006e-01,\n",
       "       -1.12409997e+00, -5.73569983e-02, -1.68259993e-01,  3.94099988e-02,\n",
       "        2.60399997e-01, -2.38659997e-02,  1.79629996e-01,  1.35529995e-01,\n",
       "        2.13900000e-01,  5.26329987e-02, -2.50330001e-01, -1.13070004e-01,\n",
       "        2.22340003e-01,  6.65969998e-02, -1.11610003e-01,  6.24380000e-02,\n",
       "       -2.79720008e-01,  1.98780000e-01, -3.62619996e-01, -1.00059997e-05,\n",
       "       -1.72619998e-01,  2.91660011e-01, -1.57230005e-01,  5.42949997e-02,\n",
       "        6.10099994e-02, -3.91649991e-01,  2.76600003e-01,  5.78159988e-02,\n",
       "        3.97089988e-01,  2.52289996e-02,  2.46720001e-01, -8.90500024e-02,\n",
       "        1.56829998e-01, -2.09600002e-01, -2.21959993e-01,  5.23939990e-02,\n",
       "       -1.13599999e-02,  5.04169986e-02, -1.40230000e-01, -4.28249985e-02,\n",
       "       -3.19310017e-02, -2.13359997e-01, -2.04019994e-01, -2.32720003e-01,\n",
       "        7.44900033e-02,  8.82019997e-02, -1.10629998e-01, -3.35260004e-01,\n",
       "       -1.40279997e-02, -2.94290006e-01, -8.69110003e-02, -1.32100001e-01,\n",
       "       -4.36159998e-01,  2.05129996e-01,  7.93620013e-03,  4.85049993e-01,\n",
       "        6.42369986e-02,  1.42609999e-01, -4.37110007e-01,  1.27829999e-01,\n",
       "       -1.31109998e-01,  2.46730000e-01, -2.74960011e-01,  1.58960000e-01,\n",
       "        4.33140010e-01,  9.02860016e-02,  2.46619999e-01,  6.64630011e-02,\n",
       "       -2.00990006e-01,  1.10100001e-01,  3.64399999e-02,  1.73590004e-01,\n",
       "       -1.56890005e-01, -8.63279998e-02, -1.73160002e-01,  3.69749993e-01,\n",
       "       -4.03169990e-01, -6.48140013e-02, -3.41660008e-02, -1.37729999e-02,\n",
       "        6.28539994e-02, -1.71829998e-01, -1.23659998e-01, -3.46629992e-02,\n",
       "       -2.27929994e-01, -2.31720001e-01,  2.38999993e-01,  2.74729997e-01,\n",
       "        1.53320000e-01,  1.06610000e-01, -6.09820001e-02, -2.48050001e-02,\n",
       "       -1.34780005e-01,  1.79319993e-01, -3.73739988e-01, -2.89299991e-02,\n",
       "       -1.11419998e-01, -8.38899985e-02, -5.59320003e-02,  6.80390000e-02,\n",
       "       -1.07830003e-01,  1.46500006e-01,  9.46170017e-02, -8.45540017e-02,\n",
       "        6.74289986e-02, -3.29100013e-01,  3.40819992e-02, -1.67469993e-01,\n",
       "       -2.59970009e-01, -2.29169995e-01,  2.01590005e-02, -2.75800005e-02,\n",
       "        1.61359996e-01, -1.85379997e-01,  3.76649983e-02,  5.76030016e-01,\n",
       "        2.06839994e-01,  2.79410005e-01,  1.64770007e-01, -1.87689997e-02,\n",
       "        1.20619997e-01,  6.96479976e-02,  5.90219982e-02, -2.31539994e-01,\n",
       "        2.40950003e-01, -3.47099990e-01,  4.85399999e-02, -5.65019995e-02,\n",
       "        4.15659994e-01, -4.31939989e-01,  4.82300013e-01, -5.17590009e-02,\n",
       "       -2.72850007e-01, -2.58929998e-01,  1.65549994e-01, -1.83100000e-01,\n",
       "       -6.73400015e-02,  4.24569994e-01,  1.03460001e-02,  1.42370000e-01,\n",
       "        2.59389997e-01,  1.71230003e-01, -1.38209999e-01, -6.68459982e-02,\n",
       "        1.59809999e-02, -3.01930010e-01,  4.35790010e-02, -4.31019999e-02,\n",
       "        3.50250006e-01, -1.96810007e-01, -4.28099990e-01,  1.68990001e-01,\n",
       "        2.25109994e-01, -2.85569996e-01, -1.02799997e-01, -1.81680005e-02,\n",
       "        1.14069998e-01,  1.30150005e-01, -1.83170006e-01,  1.32300004e-01])"
      ]
     },
     "execution_count": 57,
     "metadata": {},
     "output_type": "execute_result"
    }
   ],
   "source": [
    "embedding_matrix_vocab[1]"
   ]
  }
 ],
 "metadata": {
  "kernelspec": {
   "display_name": "Python 3 (ipykernel)",
   "language": "python",
   "name": "python3"
  },
  "language_info": {
   "codemirror_mode": {
    "name": "ipython",
    "version": 3
   },
   "file_extension": ".py",
   "mimetype": "text/x-python",
   "name": "python",
   "nbconvert_exporter": "python",
   "pygments_lexer": "ipython3",
   "version": "3.10.4"
  }
 },
 "nbformat": 4,
 "nbformat_minor": 5
}
