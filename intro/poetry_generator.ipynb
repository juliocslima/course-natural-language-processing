{
 "cells": [
  {
   "cell_type": "code",
   "execution_count": 1,
   "id": "8d9271d9",
   "metadata": {},
   "outputs": [],
   "source": [
    "import numpy as np\n",
    "import string"
   ]
  },
  {
   "cell_type": "code",
   "execution_count": 2,
   "id": "8a69ee5d",
   "metadata": {},
   "outputs": [],
   "source": [
    "np.random.seed(1234)"
   ]
  },
  {
   "cell_type": "code",
   "execution_count": 3,
   "id": "ccd55c8b",
   "metadata": {},
   "outputs": [],
   "source": [
    "initial = {} # start of the phrase\n",
    "first_order = {} # second word only\n",
    "second_order = {}"
   ]
  },
  {
   "cell_type": "code",
   "execution_count": 4,
   "id": "fa47ef4d",
   "metadata": {},
   "outputs": [],
   "source": [
    "def remove_punctuation(s):\n",
    "    return s.translate(str.maketrans('', '', string.punctuation))"
   ]
  },
  {
   "cell_type": "code",
   "execution_count": 5,
   "id": "3b79966a",
   "metadata": {},
   "outputs": [],
   "source": [
    "def add2dict(d, k, v):\n",
    "    if k not in d:\n",
    "        d[k] = []\n",
    "        \n",
    "    d[k].append(v)\n",
    "    \n",
    "# [cat, cat, dog, dog, dog, dog, mouse, ...]"
   ]
  },
  {
   "cell_type": "code",
   "execution_count": 6,
   "id": "405f96c6",
   "metadata": {},
   "outputs": [],
   "source": [
    "for line in open('robert_frost.txt', 'r'):\n",
    "    tokens = remove_punctuation(line.rstrip().lower()).split()\n",
    "    \n",
    "    T = len(tokens)\n",
    "    \n",
    "    for i in range(T):\n",
    "        t = tokens[i]\n",
    "        if i == 0:\n",
    "            # measure the distribution of the first word\n",
    "            initial[t] = initial.get(t, 0.) + 1\n",
    "        else:\n",
    "            t_1 = tokens[i - 1]\n",
    "            if i == T - 1:\n",
    "                # measure probbility of ending the line\n",
    "                add2dict(second_order, (t_1, t), 'END')\n",
    "            if i == 1:\n",
    "                # measure distribution of second word\n",
    "                # given only first word\n",
    "                add2dict(first_order, t_1, t)\n",
    "            else:\n",
    "                t_2 = tokens[i - 2]\n",
    "                add2dict(second_order, (t_2, t_1), t)"
   ]
  },
  {
   "cell_type": "code",
   "execution_count": 7,
   "id": "482d22ac",
   "metadata": {},
   "outputs": [],
   "source": [
    "# normalize the distributions\n",
    "initial_total = sum(initial.values())\n",
    "for t, c in initial.items():\n",
    "    initial[t] = c / initial_total"
   ]
  },
  {
   "cell_type": "code",
   "execution_count": 8,
   "id": "538ad656",
   "metadata": {},
   "outputs": [],
   "source": [
    "# convert [cat, cat, dog, dog, dog, dog, mouse, ...]\n",
    "# into {cat: 0.5, dog: 0.4, mouse: 0.1, ...}\n",
    "\n",
    "def list2pdict(ts):\n",
    "    # turn each list of possibilities into a dictionary of probabilities\n",
    "    d = {}\n",
    "    n = len(ts)\n",
    "    \n",
    "    for t in ts:\n",
    "        d[t] = d.get(t, 0) + 1\n",
    "        \n",
    "    for t, c in d.items():\n",
    "        d[t] = c / n\n",
    "        \n",
    "    return d"
   ]
  },
  {
   "cell_type": "code",
   "execution_count": 9,
   "id": "060765b4",
   "metadata": {},
   "outputs": [],
   "source": [
    "for t_1, ts in first_order.items():\n",
    "    # replace list with dictionary of probabilities\n",
    "    first_order[t_1] = list2pdict(ts)"
   ]
  },
  {
   "cell_type": "code",
   "execution_count": 10,
   "id": "82986977",
   "metadata": {},
   "outputs": [],
   "source": [
    "for k, ts in second_order.items():\n",
    "    second_order[k] = list2pdict(ts)"
   ]
  },
  {
   "cell_type": "code",
   "execution_count": 11,
   "id": "51d4ab37",
   "metadata": {},
   "outputs": [],
   "source": [
    "def sample_word(d):\n",
    "    # print \"d: \", d\n",
    "    p0 = np.random.random()\n",
    "    \n",
    "    # print \"p0: \", p\n",
    "    cumulative = 0\n",
    "    for t, p in d.items():\n",
    "        cumulative += p\n",
    "        if p0 < cumulative:\n",
    "            return t\n",
    "    \n",
    "    assert(False) # should never get here"
   ]
  },
  {
   "cell_type": "code",
   "execution_count": 12,
   "id": "f1b5d5e2",
   "metadata": {},
   "outputs": [],
   "source": [
    "def generate():\n",
    "    for i in range(4):\n",
    "        sentence = []\n",
    "        \n",
    "        # initial word\n",
    "        w0 = sample_word(initial)\n",
    "        sentence.append(w0)\n",
    "        \n",
    "        # sample second word\n",
    "        w1 = sample_word(first_order[w0])\n",
    "        sentence.append(w1)\n",
    "        \n",
    "        # second order transitions until END\n",
    "        while True:\n",
    "            w2 = sample_word(second_order[(w0, w1)])\n",
    "            \n",
    "            if w2 == 'END':\n",
    "                break\n",
    "                \n",
    "            sentence.append(w2)\n",
    "            w0 = w1\n",
    "            w1 = w2\n",
    "            \n",
    "        print(' '.join(sentence))\n",
    "            "
   ]
  },
  {
   "cell_type": "code",
   "execution_count": 15,
   "id": "7988181b",
   "metadata": {},
   "outputs": [
    {
     "name": "stdout",
     "output_type": "stream",
     "text": [
      "i know\n",
      "up to pass a winter eve\n",
      "to make them out\n",
      "and then someone\n"
     ]
    }
   ],
   "source": [
    "generate()"
   ]
  },
  {
   "cell_type": "markdown",
   "id": "f83c523f",
   "metadata": {},
   "source": [
    "# Exercise 01:\n",
    "\n",
    "Determine the vocabulary size (V)\n",
    "We know that pi has shape V, A1 has shape V x V, and A2 has shape V x V x V\n",
    "\n",
    "In comparison, how many values are stored in our dictionary?"
   ]
  },
  {
   "cell_type": "markdown",
   "id": "bada836c",
   "metadata": {},
   "source": [
    "# Exercise 02:\n",
    "\n",
    "We can skip the step where we accumulate all the possible next words in a list\n",
    "E.g. [cat, cat, dog, dog, dog, ...]\n",
    "\n",
    "Istead, like we do with the initial state distribution, create a dictionary \n",
    "of counts directly as you loop through the data.\n",
    "\n",
    "You'll no longer need ```list2pdict()```"
   ]
  }
 ],
 "metadata": {
  "kernelspec": {
   "display_name": "Python 3 (ipykernel)",
   "language": "python",
   "name": "python3"
  },
  "language_info": {
   "codemirror_mode": {
    "name": "ipython",
    "version": 3
   },
   "file_extension": ".py",
   "mimetype": "text/x-python",
   "name": "python",
   "nbconvert_exporter": "python",
   "pygments_lexer": "ipython3",
   "version": "3.10.4"
  }
 },
 "nbformat": 4,
 "nbformat_minor": 5
}
